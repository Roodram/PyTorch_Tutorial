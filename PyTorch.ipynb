{
 "cells": [
  {
   "cell_type": "code",
   "execution_count": 1,
   "metadata": {},
   "outputs": [],
   "source": [
    "import torch"
   ]
  },
  {
   "cell_type": "code",
   "execution_count": 8,
   "metadata": {},
   "outputs": [
    {
     "name": "stdout",
     "output_type": "stream",
     "text": [
      "tensor([[0.0724, 0.0407, 0.5673]])\n",
      "tensor([[0., 0.]])\n",
      "tensor([[3, 5],\n",
      "        [4, 8]])\n"
     ]
    }
   ],
   "source": [
    "x = torch.empty(5,3)\n",
    "print(torch.rand(1,3, dtype=torch.float))\n",
    "print(torch.zeros(1,2))\n",
    "print(torch.tensor([[3,5],\n",
    "                    [4,8]]))"
   ]
  },
  {
   "cell_type": "code",
   "execution_count": 12,
   "metadata": {},
   "outputs": [
    {
     "name": "stdout",
     "output_type": "stream",
     "text": [
      "torch.Size([5, 3])\n"
     ]
    }
   ],
   "source": [
    "x = x.new_ones(5,3)\n",
    "print(x.size())\n",
    "\n",
    "y = torch.randn_like(x)"
   ]
  },
  {
   "cell_type": "code",
   "execution_count": 15,
   "metadata": {},
   "outputs": [
    {
     "name": "stdout",
     "output_type": "stream",
     "text": [
      "tensor([[2.8317, 2.1980, 0.8118],\n",
      "        [1.3976, 3.4908, 3.4041],\n",
      "        [1.5731, 4.3204, 0.2056],\n",
      "        [0.7986, 1.8143, 2.9853],\n",
      "        [1.4761, 1.3524, 3.4218]])\n",
      "tensor([1.8118, 4.4041, 1.2056, 3.9853, 4.4218])\n"
     ]
    }
   ],
   "source": [
    "print(x+y)\n",
    "y.add_(x)\n",
    "z = torch.empty(5, 3)\n",
    "torch.add(x,y,out=z)\n",
    "print(z[:,2])"
   ]
  },
  {
   "cell_type": "code",
   "execution_count": 17,
   "metadata": {},
   "outputs": [
    {
     "name": "stdout",
     "output_type": "stream",
     "text": [
      "tensor([[1., 1., 1., 1., 1.],\n",
      "        [1., 1., 1., 1., 1.],\n",
      "        [1., 1., 1., 1., 1.]])\n"
     ]
    }
   ],
   "source": [
    "print(x.view(-1,5)) #resize"
   ]
  },
  {
   "cell_type": "code",
   "execution_count": 19,
   "metadata": {},
   "outputs": [
    {
     "name": "stdout",
     "output_type": "stream",
     "text": [
      "0.17360273003578186\n"
     ]
    }
   ],
   "source": [
    "print(torch.randn(1).item())"
   ]
  },
  {
   "cell_type": "code",
   "execution_count": null,
   "metadata": {},
   "outputs": [],
   "source": []
  }
 ],
 "metadata": {
  "kernelspec": {
   "display_name": "Python 3",
   "language": "python",
   "name": "python3"
  },
  "language_info": {
   "codemirror_mode": {
    "name": "ipython",
    "version": 3
   },
   "file_extension": ".py",
   "mimetype": "text/x-python",
   "name": "python",
   "nbconvert_exporter": "python",
   "pygments_lexer": "ipython3",
   "version": "3.6.7"
  }
 },
 "nbformat": 4,
 "nbformat_minor": 2
}
