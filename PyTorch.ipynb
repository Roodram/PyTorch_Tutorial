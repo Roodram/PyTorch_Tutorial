{
 "cells": [
  {
   "cell_type": "code",
   "execution_count": 1,
   "metadata": {},
   "outputs": [],
   "source": [
    "import torch"
   ]
  },
  {
   "cell_type": "code",
   "execution_count": 2,
   "metadata": {},
   "outputs": [
    {
     "name": "stdout",
     "output_type": "stream",
     "text": [
      "tensor([[0.8305, 0.7784, 0.1548]])\n",
      "tensor([[0., 0.]])\n",
      "tensor([[3, 5],\n",
      "        [4, 8]])\n"
     ]
    }
   ],
   "source": [
    "x = torch.empty(5,3)\n",
    "print(torch.rand(1,3, dtype=torch.float))\n",
    "print(torch.zeros(1,2))\n",
    "print(torch.tensor([[3,5],\n",
    "                    [4,8]]))"
   ]
  },
  {
   "cell_type": "code",
   "execution_count": 3,
   "metadata": {},
   "outputs": [
    {
     "name": "stdout",
     "output_type": "stream",
     "text": [
      "torch.Size([5, 3])\n"
     ]
    }
   ],
   "source": [
    "x = x.new_ones(5,3)\n",
    "print(x.size())\n",
    "\n",
    "y = torch.randn_like(x)"
   ]
  },
  {
   "cell_type": "code",
   "execution_count": 4,
   "metadata": {},
   "outputs": [
    {
     "name": "stdout",
     "output_type": "stream",
     "text": [
      "tensor([[ 0.9785,  0.7344, -0.3164],\n",
      "        [-0.7010,  1.8694,  1.7804],\n",
      "        [ 0.6680,  0.9819, -0.5236],\n",
      "        [ 1.8515,  2.4365,  2.2649],\n",
      "        [ 2.5291,  0.2831,  0.9861]])\n",
      "tensor([0.6836, 2.7804, 0.4764, 3.2649, 1.9861])\n"
     ]
    }
   ],
   "source": [
    "print(x+y)\n",
    "y.add_(x)\n",
    "z = torch.empty(5, 3)\n",
    "torch.add(x,y,out=z)\n",
    "print(z[:,2])"
   ]
  },
  {
   "cell_type": "code",
   "execution_count": 5,
   "metadata": {},
   "outputs": [
    {
     "name": "stdout",
     "output_type": "stream",
     "text": [
      "tensor([[1., 1., 1., 1., 1.],\n",
      "        [1., 1., 1., 1., 1.],\n",
      "        [1., 1., 1., 1., 1.]])\n"
     ]
    }
   ],
   "source": [
    "print(x.view(-1,5)) #resize"
   ]
  },
  {
   "cell_type": "code",
   "execution_count": 6,
   "metadata": {},
   "outputs": [
    {
     "name": "stdout",
     "output_type": "stream",
     "text": [
      "-0.27621254324913025\n"
     ]
    }
   ],
   "source": [
    "print(torch.randn(1).item())"
   ]
  },
  {
   "cell_type": "code",
   "execution_count": 13,
   "metadata": {},
   "outputs": [
    {
     "name": "stdout",
     "output_type": "stream",
     "text": [
      "tensor([[-1.2669,  0.7759, -1.4680],\n",
      "        [ 0.5722,  0.4123, -0.4843],\n",
      "        [-0.1646, -0.8530,  0.0073],\n",
      "        [-1.1658,  0.8747,  1.4388],\n",
      "        [ 0.6895,  0.5324,  1.0518]], dtype=torch.float64)\n"
     ]
    }
   ],
   "source": [
    "print(torch.randn_like(x, dtype=torch.double))#int or long not valid"
   ]
  },
  {
   "cell_type": "code",
   "execution_count": 16,
   "metadata": {},
   "outputs": [
    {
     "name": "stdout",
     "output_type": "stream",
     "text": [
      "tensor([[0, 0, 0],\n",
      "        [0, 0, 0],\n",
      "        [0, 0, 0]], dtype=torch.int32)\n"
     ]
    }
   ],
   "source": [
    "import numpy as np\n",
    "a = np.zeros((3, 3), dtype=np.int32)\n",
    "print(torch.from_numpy(a))"
   ]
  },
  {
   "cell_type": "code",
   "execution_count": null,
   "metadata": {},
   "outputs": [],
   "source": []
  }
 ],
 "metadata": {
  "kernelspec": {
   "display_name": "Python 3",
   "language": "python",
   "name": "python3"
  },
  "language_info": {
   "codemirror_mode": {
    "name": "ipython",
    "version": 3
   },
   "file_extension": ".py",
   "mimetype": "text/x-python",
   "name": "python",
   "nbconvert_exporter": "python",
   "pygments_lexer": "ipython3",
   "version": "3.6.7"
  }
 },
 "nbformat": 4,
 "nbformat_minor": 2
}
